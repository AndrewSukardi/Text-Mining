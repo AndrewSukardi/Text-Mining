{
 "cells": [
  {
   "cell_type": "code",
   "execution_count": 1,
   "id": "7582e310",
   "metadata": {
    "execution": {
     "iopub.execute_input": "2024-01-20T16:57:34.237222Z",
     "iopub.status.busy": "2024-01-20T16:57:34.236465Z",
     "iopub.status.idle": "2024-01-20T16:57:34.240960Z",
     "shell.execute_reply": "2024-01-20T16:57:34.240193Z"
    },
    "id": "2br_HRjsRIyZ",
    "papermill": {
     "duration": 0.024881,
     "end_time": "2024-01-20T16:57:34.242769",
     "exception": false,
     "start_time": "2024-01-20T16:57:34.217888",
     "status": "completed"
    },
    "tags": []
   },
   "outputs": [],
   "source": [
    "# import tensorflow as tf\n",
    "\n",
    "# import os\n",
    "# import tensorflow_datasets as tfds"
   ]
  },
  {
   "cell_type": "code",
   "execution_count": 2,
   "id": "7013354b",
   "metadata": {
    "execution": {
     "iopub.execute_input": "2024-01-20T16:57:34.277171Z",
     "iopub.status.busy": "2024-01-20T16:57:34.276913Z",
     "iopub.status.idle": "2024-01-20T16:57:34.280643Z",
     "shell.execute_reply": "2024-01-20T16:57:34.279852Z"
    },
    "id": "ihi5-2ctRLgC",
    "papermill": {
     "duration": 0.022788,
     "end_time": "2024-01-20T16:57:34.282442",
     "exception": false,
     "start_time": "2024-01-20T16:57:34.259654",
     "status": "completed"
    },
    "tags": []
   },
   "outputs": [],
   "source": [
    "# resolver = tf.distribute.cluster_resolver.TPUClusterResolver(tpu='')\n",
    "# tf.config.experimental_connect_to_cluster(resolver)\n",
    "# # This is the TPU initialization code that has to be at the beginning.\n",
    "# tf.tpu.experimental.initialize_tpu_system(resolver)\n",
    "# print(\"All devices: \", tf.config.list_logical_devices('TPU'))"
   ]
  },
  {
   "cell_type": "markdown",
   "id": "7f80aac6",
   "metadata": {
    "id": "SCgfJ6FOdryh",
    "papermill": {
     "duration": 0.016255,
     "end_time": "2024-01-20T16:57:34.315090",
     "exception": false,
     "start_time": "2024-01-20T16:57:34.298835",
     "status": "completed"
    },
    "tags": []
   },
   "source": [
    "# Data collection"
   ]
  },
  {
   "cell_type": "code",
   "execution_count": 3,
   "id": "bbf63e03",
   "metadata": {
    "execution": {
     "iopub.execute_input": "2024-01-20T16:57:34.351433Z",
     "iopub.status.busy": "2024-01-20T16:57:34.350886Z",
     "iopub.status.idle": "2024-01-20T16:57:35.027650Z",
     "shell.execute_reply": "2024-01-20T16:57:35.026906Z"
    },
    "id": "8ZOczZ0F93Wc",
    "papermill": {
     "duration": 0.697419,
     "end_time": "2024-01-20T16:57:35.030007",
     "exception": false,
     "start_time": "2024-01-20T16:57:34.332588",
     "status": "completed"
    },
    "tags": []
   },
   "outputs": [],
   "source": [
    "# library\n",
    "import numpy as np\n",
    "import pandas as pd"
   ]
  },
  {
   "cell_type": "code",
   "execution_count": 4,
   "id": "29f12c67",
   "metadata": {
    "execution": {
     "iopub.execute_input": "2024-01-20T16:57:35.065788Z",
     "iopub.status.busy": "2024-01-20T16:57:35.064932Z",
     "iopub.status.idle": "2024-01-20T16:57:35.545197Z",
     "shell.execute_reply": "2024-01-20T16:57:35.544199Z"
    },
    "id": "HHm3DfXn-vO-",
    "papermill": {
     "duration": 0.500305,
     "end_time": "2024-01-20T16:57:35.547700",
     "exception": false,
     "start_time": "2024-01-20T16:57:35.047395",
     "status": "completed"
    },
    "tags": []
   },
   "outputs": [],
   "source": [
    "df = pd.read_csv('https://raw.githubusercontent.com/AndrewSukardi/Text-Mining/main/data_1A.csv')"
   ]
  },
  {
   "cell_type": "code",
   "execution_count": 5,
   "id": "3027ca5b",
   "metadata": {
    "execution": {
     "iopub.execute_input": "2024-01-20T16:57:35.583238Z",
     "iopub.status.busy": "2024-01-20T16:57:35.582481Z",
     "iopub.status.idle": "2024-01-20T16:57:35.600682Z",
     "shell.execute_reply": "2024-01-20T16:57:35.599821Z"
    },
    "id": "PDfvKSFE-1TL",
    "outputId": "e89a1b66-95f6-49aa-9622-d5c743a92a81",
    "papermill": {
     "duration": 0.037897,
     "end_time": "2024-01-20T16:57:35.602672",
     "exception": false,
     "start_time": "2024-01-20T16:57:35.564775",
     "status": "completed"
    },
    "tags": []
   },
   "outputs": [
    {
     "data": {
      "text/html": [
       "<div>\n",
       "<style scoped>\n",
       "    .dataframe tbody tr th:only-of-type {\n",
       "        vertical-align: middle;\n",
       "    }\n",
       "\n",
       "    .dataframe tbody tr th {\n",
       "        vertical-align: top;\n",
       "    }\n",
       "\n",
       "    .dataframe thead th {\n",
       "        text-align: right;\n",
       "    }\n",
       "</style>\n",
       "<table border=\"1\" class=\"dataframe\">\n",
       "  <thead>\n",
       "    <tr style=\"text-align: right;\">\n",
       "      <th></th>\n",
       "      <th>Unnamed: 0</th>\n",
       "      <th>text</th>\n",
       "      <th>label</th>\n",
       "    </tr>\n",
       "  </thead>\n",
       "  <tbody>\n",
       "    <tr>\n",
       "      <th>0</th>\n",
       "      <td>0</td>\n",
       "      <td>Tuberculous peritonitis: a study comparing cir...</td>\n",
       "      <td>cardiovascular diseases</td>\n",
       "    </tr>\n",
       "    <tr>\n",
       "      <th>1</th>\n",
       "      <td>1</td>\n",
       "      <td>Clinical and Doppler echocardiographic follow-...</td>\n",
       "      <td>general pathological conditions</td>\n",
       "    </tr>\n",
       "    <tr>\n",
       "      <th>2</th>\n",
       "      <td>2</td>\n",
       "      <td>Pulmonary embolism presenting as exercise-indu...</td>\n",
       "      <td>nervous system diseases</td>\n",
       "    </tr>\n",
       "    <tr>\n",
       "      <th>3</th>\n",
       "      <td>3</td>\n",
       "      <td>Pancreatitis. Pancreatitis is a common but rat...</td>\n",
       "      <td>cardiovascular diseases</td>\n",
       "    </tr>\n",
       "    <tr>\n",
       "      <th>4</th>\n",
       "      <td>4</td>\n",
       "      <td>Xeroderma pigmentosum: review and report of a ...</td>\n",
       "      <td>general pathological conditions</td>\n",
       "    </tr>\n",
       "    <tr>\n",
       "      <th>...</th>\n",
       "      <td>...</td>\n",
       "      <td>...</td>\n",
       "      <td>...</td>\n",
       "    </tr>\n",
       "    <tr>\n",
       "      <th>3604</th>\n",
       "      <td>3604</td>\n",
       "      <td>Alkaline reflux gastritis. Alkaline reflux gas...</td>\n",
       "      <td>cardiovascular diseases</td>\n",
       "    </tr>\n",
       "    <tr>\n",
       "      <th>3605</th>\n",
       "      <td>3605</td>\n",
       "      <td>Skin reflectance pulse oximetry: in vivo measu...</td>\n",
       "      <td>general pathological conditions</td>\n",
       "    </tr>\n",
       "    <tr>\n",
       "      <th>3606</th>\n",
       "      <td>3606</td>\n",
       "      <td>Orocaecal transit time in Duchenne muscular dy...</td>\n",
       "      <td>neoplasms</td>\n",
       "    </tr>\n",
       "    <tr>\n",
       "      <th>3607</th>\n",
       "      <td>3607</td>\n",
       "      <td>Myelopathic neurosarcoidosis: diagnostic value...</td>\n",
       "      <td>neoplasms</td>\n",
       "    </tr>\n",
       "    <tr>\n",
       "      <th>3608</th>\n",
       "      <td>3608</td>\n",
       "      <td>Eosinophilia-myalgia syndrome associated with ...</td>\n",
       "      <td>general pathological conditions</td>\n",
       "    </tr>\n",
       "  </tbody>\n",
       "</table>\n",
       "<p>3609 rows × 3 columns</p>\n",
       "</div>"
      ],
      "text/plain": [
       "      Unnamed: 0                                               text  \\\n",
       "0              0  Tuberculous peritonitis: a study comparing cir...   \n",
       "1              1  Clinical and Doppler echocardiographic follow-...   \n",
       "2              2  Pulmonary embolism presenting as exercise-indu...   \n",
       "3              3  Pancreatitis. Pancreatitis is a common but rat...   \n",
       "4              4  Xeroderma pigmentosum: review and report of a ...   \n",
       "...          ...                                                ...   \n",
       "3604        3604  Alkaline reflux gastritis. Alkaline reflux gas...   \n",
       "3605        3605  Skin reflectance pulse oximetry: in vivo measu...   \n",
       "3606        3606  Orocaecal transit time in Duchenne muscular dy...   \n",
       "3607        3607  Myelopathic neurosarcoidosis: diagnostic value...   \n",
       "3608        3608  Eosinophilia-myalgia syndrome associated with ...   \n",
       "\n",
       "                                label  \n",
       "0             cardiovascular diseases  \n",
       "1     general pathological conditions  \n",
       "2             nervous system diseases  \n",
       "3             cardiovascular diseases  \n",
       "4     general pathological conditions  \n",
       "...                               ...  \n",
       "3604          cardiovascular diseases  \n",
       "3605  general pathological conditions  \n",
       "3606                        neoplasms  \n",
       "3607                        neoplasms  \n",
       "3608  general pathological conditions  \n",
       "\n",
       "[3609 rows x 3 columns]"
      ]
     },
     "execution_count": 5,
     "metadata": {},
     "output_type": "execute_result"
    }
   ],
   "source": [
    "df"
   ]
  },
  {
   "cell_type": "markdown",
   "id": "39d32a79",
   "metadata": {
    "id": "ToeS4EBNdUc0",
    "papermill": {
     "duration": 0.016615,
     "end_time": "2024-01-20T16:57:35.636062",
     "exception": false,
     "start_time": "2024-01-20T16:57:35.619447",
     "status": "completed"
    },
    "tags": []
   },
   "source": [
    "There is a total of 3609 data with 2 feature"
   ]
  },
  {
   "cell_type": "markdown",
   "id": "b39ab3d1",
   "metadata": {
    "id": "5vWr_GE_dxFC",
    "papermill": {
     "duration": 0.016436,
     "end_time": "2024-01-20T16:57:35.669216",
     "exception": false,
     "start_time": "2024-01-20T16:57:35.652780",
     "status": "completed"
    },
    "tags": []
   },
   "source": [
    "# Explatory Data Analaysis"
   ]
  },
  {
   "cell_type": "code",
   "execution_count": 6,
   "id": "7ff2cf9a",
   "metadata": {
    "execution": {
     "iopub.execute_input": "2024-01-20T16:57:35.704376Z",
     "iopub.status.busy": "2024-01-20T16:57:35.703640Z",
     "iopub.status.idle": "2024-01-20T16:57:35.707742Z",
     "shell.execute_reply": "2024-01-20T16:57:35.706908Z"
    },
    "id": "Yzqblm48d8s7",
    "papermill": {
     "duration": 0.023847,
     "end_time": "2024-01-20T16:57:35.709680",
     "exception": false,
     "start_time": "2024-01-20T16:57:35.685833",
     "status": "completed"
    },
    "tags": []
   },
   "outputs": [],
   "source": [
    "# library\n",
    "import matplotlib.pyplot as plt"
   ]
  },
  {
   "cell_type": "code",
   "execution_count": 7,
   "id": "ff455687",
   "metadata": {
    "execution": {
     "iopub.execute_input": "2024-01-20T16:57:35.791412Z",
     "iopub.status.busy": "2024-01-20T16:57:35.790520Z",
     "iopub.status.idle": "2024-01-20T16:57:35.813253Z",
     "shell.execute_reply": "2024-01-20T16:57:35.812074Z"
    },
    "id": "Ej9e9KuHl3bK",
    "outputId": "c1cbc57d-21e6-4e87-85d5-b215700659ed",
    "papermill": {
     "duration": 0.089368,
     "end_time": "2024-01-20T16:57:35.815930",
     "exception": false,
     "start_time": "2024-01-20T16:57:35.726562",
     "status": "completed"
    },
    "tags": []
   },
   "outputs": [
    {
     "name": "stdout",
     "output_type": "stream",
     "text": [
      "<class 'pandas.core.frame.DataFrame'>\n",
      "RangeIndex: 3609 entries, 0 to 3608\n",
      "Data columns (total 3 columns):\n",
      " #   Column      Non-Null Count  Dtype \n",
      "---  ------      --------------  ----- \n",
      " 0   Unnamed: 0  3609 non-null   int64 \n",
      " 1   text        3609 non-null   object\n",
      " 2   label       3609 non-null   object\n",
      "dtypes: int64(1), object(2)\n",
      "memory usage: 84.7+ KB\n"
     ]
    }
   ],
   "source": [
    "df.info()"
   ]
  },
  {
   "cell_type": "code",
   "execution_count": 8,
   "id": "ea1944b5",
   "metadata": {
    "execution": {
     "iopub.execute_input": "2024-01-20T16:57:35.851401Z",
     "iopub.status.busy": "2024-01-20T16:57:35.851113Z",
     "iopub.status.idle": "2024-01-20T16:57:35.857233Z",
     "shell.execute_reply": "2024-01-20T16:57:35.856416Z"
    },
    "id": "C250RhAumAAh",
    "outputId": "617bd1e5-fa51-4e19-ed2e-333be0716b66",
    "papermill": {
     "duration": 0.026053,
     "end_time": "2024-01-20T16:57:35.859087",
     "exception": false,
     "start_time": "2024-01-20T16:57:35.833034",
     "status": "completed"
    },
    "tags": []
   },
   "outputs": [
    {
     "data": {
      "text/plain": [
       "3609"
      ]
     },
     "execution_count": 8,
     "metadata": {},
     "output_type": "execute_result"
    }
   ],
   "source": [
    "df['Unnamed: 0'].nunique()"
   ]
  },
  {
   "cell_type": "markdown",
   "id": "79fe32e4",
   "metadata": {
    "id": "aOVFj81CmEWw",
    "papermill": {
     "duration": 0.016859,
     "end_time": "2024-01-20T16:57:35.893025",
     "exception": false,
     "start_time": "2024-01-20T16:57:35.876166",
     "status": "completed"
    },
    "tags": []
   },
   "source": [
    "Unnamed: 0 will be dropped because it served as an index with all rows being unique"
   ]
  },
  {
   "cell_type": "code",
   "execution_count": 9,
   "id": "e369b526",
   "metadata": {
    "execution": {
     "iopub.execute_input": "2024-01-20T16:57:35.927990Z",
     "iopub.status.busy": "2024-01-20T16:57:35.927672Z",
     "iopub.status.idle": "2024-01-20T16:57:35.933414Z",
     "shell.execute_reply": "2024-01-20T16:57:35.932547Z"
    },
    "id": "YpiBdFg6daVb",
    "outputId": "79c2471b-0d74-492a-de96-492291334e00",
    "papermill": {
     "duration": 0.025294,
     "end_time": "2024-01-20T16:57:35.935243",
     "exception": false,
     "start_time": "2024-01-20T16:57:35.909949",
     "status": "completed"
    },
    "tags": []
   },
   "outputs": [
    {
     "name": "stdout",
     "output_type": "stream",
     "text": [
      "['general pathological conditions', 'digestive system diseases', 'nervous system diseases', 'neoplasms', 'cardiovascular diseases']\n"
     ]
    }
   ],
   "source": [
    "# Count target label\n",
    "target_labels = (df['label'].value_counts()).index.tolist()\n",
    "print(target_labels)"
   ]
  },
  {
   "cell_type": "code",
   "execution_count": 10,
   "id": "cc27e427",
   "metadata": {
    "execution": {
     "iopub.execute_input": "2024-01-20T16:57:35.971260Z",
     "iopub.status.busy": "2024-01-20T16:57:35.970891Z",
     "iopub.status.idle": "2024-01-20T16:57:35.977655Z",
     "shell.execute_reply": "2024-01-20T16:57:35.976657Z"
    },
    "id": "Eyq6o2fWCQlX",
    "outputId": "f43fa856-529f-4569-ffb9-948f02e197f2",
    "papermill": {
     "duration": 0.027223,
     "end_time": "2024-01-20T16:57:35.979743",
     "exception": false,
     "start_time": "2024-01-20T16:57:35.952520",
     "status": "completed"
    },
    "tags": []
   },
   "outputs": [
    {
     "name": "stdout",
     "output_type": "stream",
     "text": [
      "label\n",
      "general pathological conditions    1172\n",
      "digestive system diseases           797\n",
      "nervous system diseases             753\n",
      "neoplasms                           502\n",
      "cardiovascular diseases             385\n",
      "Name: count, dtype: int64\n"
     ]
    }
   ],
   "source": [
    "# Count target distribition\n",
    "label_counts = df['label'].value_counts()\n",
    "print(label_counts)"
   ]
  },
  {
   "cell_type": "markdown",
   "id": "c36e66a9",
   "metadata": {
    "id": "9sZD1Y84dgzh",
    "papermill": {
     "duration": 0.017393,
     "end_time": "2024-01-20T16:57:36.014619",
     "exception": false,
     "start_time": "2024-01-20T16:57:35.997226",
     "status": "completed"
    },
    "tags": []
   },
   "source": [
    "5 target label diseases"
   ]
  },
  {
   "cell_type": "markdown",
   "id": "c3fbd3ae",
   "metadata": {
    "id": "zyaBn5YOcp6t",
    "papermill": {
     "duration": 0.018013,
     "end_time": "2024-01-20T16:57:36.050295",
     "exception": false,
     "start_time": "2024-01-20T16:57:36.032282",
     "status": "completed"
    },
    "tags": []
   },
   "source": [
    "The data were **inbalance** and need to user oversampling or undersampling before modeling"
   ]
  },
  {
   "cell_type": "code",
   "execution_count": 11,
   "id": "8227e59d",
   "metadata": {
    "execution": {
     "iopub.execute_input": "2024-01-20T16:57:36.086781Z",
     "iopub.status.busy": "2024-01-20T16:57:36.086425Z",
     "iopub.status.idle": "2024-01-20T16:57:36.519105Z",
     "shell.execute_reply": "2024-01-20T16:57:36.518145Z"
    },
    "id": "diVuWg6WeFh5",
    "outputId": "83e7ef99-7036-47f3-e3ab-6bcea2ca8673",
    "papermill": {
     "duration": 0.453414,
     "end_time": "2024-01-20T16:57:36.521203",
     "exception": false,
     "start_time": "2024-01-20T16:57:36.067789",
     "status": "completed"
    },
    "tags": []
   },
   "outputs": [
    {
     "data": {
      "image/png": "[encoded data removed]",
      "text/plain": [
       "<Figure size 1000x600 with 1 Axes>"
      ]
     },
     "metadata": {},
     "output_type": "display_data"
    }
   ],
   "source": [
    "# Define the colors\n",
    "colors = ['skyblue', 'lightcoral', 'lightgreen', 'orange', 'lightblue', 'pink', 'yellow', 'purple']\n",
    "\n",
    "# Visualize the distribution\n",
    "plt.figure(figsize=(10, 6))\n",
    "ax = label_counts.plot(kind='bar', color=colors)\n",
    "plt.title('Distribution of Target Labels')\n",
    "plt.xlabel('Label')\n",
    "plt.ylabel('Count')\n",
    "plt.xticks([])\n",
    "legend_handles = [plt.Line2D([0], [0], color=colors[i], lw=2) for i in range(len(target_labels))]\n",
    "ax.legend(legend_handles, target_labels, title='Labels', loc='best')\n",
    "plt.tight_layout()\n",
    "plt.show()"
   ]
  },
  {
   "cell_type": "markdown",
   "id": "9865d2cc",
   "metadata": {
    "id": "04t0zXnDQgc6",
    "papermill": {
     "duration": 0.017778,
     "end_time": "2024-01-20T16:57:36.557195",
     "exception": false,
     "start_time": "2024-01-20T16:57:36.539417",
     "status": "completed"
    },
    "tags": []
   },
   "source": [
    "# Data Preprocessing"
   ]
  },
  {
   "cell_type": "code",
   "execution_count": 12,
   "id": "29ff8ce2",
   "metadata": {
    "execution": {
     "iopub.execute_input": "2024-01-20T16:57:36.595061Z",
     "iopub.status.busy": "2024-01-20T16:57:36.594304Z",
     "iopub.status.idle": "2024-01-20T16:57:37.384795Z",
     "shell.execute_reply": "2024-01-20T16:57:37.384029Z"
    },
    "id": "fq5lR-msQq6P",
    "papermill": {
     "duration": 0.812166,
     "end_time": "2024-01-20T16:57:37.387218",
     "exception": false,
     "start_time": "2024-01-20T16:57:36.575052",
     "status": "completed"
    },
    "tags": []
   },
   "outputs": [
    {
     "name": "stderr",
     "output_type": "stream",
     "text": [
      "/opt/conda/lib/python3.10/site-packages/scipy/__init__.py:146: UserWarning: A NumPy version >=1.16.5 and <1.23.0 is required for this version of SciPy (detected version 1.24.3\n",
      "  warnings.warn(f\"A NumPy version >={np_minversion} and <{np_maxversion}\"\n"
     ]
    }
   ],
   "source": [
    "# Library\n",
    "from sklearn.preprocessing import LabelEncoder"
   ]
  },
  {
   "cell_type": "code",
   "execution_count": 13,
   "id": "b06871d2",
   "metadata": {
    "execution": {
     "iopub.execute_input": "2024-01-20T16:57:37.425923Z",
     "iopub.status.busy": "2024-01-20T16:57:37.425137Z",
     "iopub.status.idle": "2024-01-20T16:57:37.431369Z",
     "shell.execute_reply": "2024-01-20T16:57:37.430612Z"
    },
    "id": "_zxfqN4Ncmns",
    "papermill": {
     "duration": 0.027136,
     "end_time": "2024-01-20T16:57:37.433282",
     "exception": false,
     "start_time": "2024-01-20T16:57:37.406146",
     "status": "completed"
    },
    "tags": []
   },
   "outputs": [],
   "source": [
    "# dropiing unamed:0\n",
    "df = df.drop('Unnamed: 0',axis=1)"
   ]
  },
  {
   "cell_type": "markdown",
   "id": "1565ea8d",
   "metadata": {
    "id": "zQhoTbdPdM-O",
    "papermill": {
     "duration": 0.017531,
     "end_time": "2024-01-20T16:57:37.468623",
     "exception": false,
     "start_time": "2024-01-20T16:57:37.451092",
     "status": "completed"
    },
    "tags": []
   },
   "source": [
    "Unamed: 0 served as a index column and need to remove"
   ]
  },
  {
   "cell_type": "markdown",
   "id": "2830f74a",
   "metadata": {
    "id": "dl2X99ZsV5Oo",
    "papermill": {
     "duration": 0.017556,
     "end_time": "2024-01-20T16:57:37.504125",
     "exception": false,
     "start_time": "2024-01-20T16:57:37.486569",
     "status": "completed"
    },
    "tags": []
   },
   "source": [
    "## Preprocess text"
   ]
  },
  {
   "cell_type": "code",
   "execution_count": 14,
   "id": "0e28c74d",
   "metadata": {
    "execution": {
     "iopub.execute_input": "2024-01-20T16:57:37.541389Z",
     "iopub.status.busy": "2024-01-20T16:57:37.540659Z",
     "iopub.status.idle": "2024-01-20T16:57:37.545090Z",
     "shell.execute_reply": "2024-01-20T16:57:37.544241Z"
    },
    "id": "OX-R7qUlQk4b",
    "papermill": {
     "duration": 0.025099,
     "end_time": "2024-01-20T16:57:37.547042",
     "exception": false,
     "start_time": "2024-01-20T16:57:37.521943",
     "status": "completed"
    },
    "tags": []
   },
   "outputs": [],
   "source": [
    "# # libary\n",
    "# import nltk\n",
    "# import spacy\n",
    "# from nltk.tokenize import word_tokenize\n",
    "# from nltk.stem import PorterStemmer, WordNetLemmatizer\n",
    "# from nltk.corpus import stopwords\n",
    "# from nltk.corpus import wordnet\n",
    "# from nltk import pos_tag\n",
    "# from nltk.tokenize import word_tokenize\n",
    "# import re\n",
    "\n",
    "# from wordcloud import WordCloud\n",
    "# import matplotlib.pyplot as plt\n",
    "# from collections import Counter"
   ]
  },
  {
   "cell_type": "code",
   "execution_count": 15,
   "id": "754f0574",
   "metadata": {
    "execution": {
     "iopub.execute_input": "2024-01-20T16:57:37.583816Z",
     "iopub.status.busy": "2024-01-20T16:57:37.583553Z",
     "iopub.status.idle": "2024-01-20T16:57:37.587341Z",
     "shell.execute_reply": "2024-01-20T16:57:37.586522Z"
    },
    "id": "b5NV4pmaWd0l",
    "papermill": {
     "duration": 0.024483,
     "end_time": "2024-01-20T16:57:37.589207",
     "exception": false,
     "start_time": "2024-01-20T16:57:37.564724",
     "status": "completed"
    },
    "tags": []
   },
   "outputs": [],
   "source": [
    "# nltk.download('all')"
   ]
  },
  {
   "cell_type": "code",
   "execution_count": 16,
   "id": "0a766062",
   "metadata": {
    "execution": {
     "iopub.execute_input": "2024-01-20T16:57:37.628064Z",
     "iopub.status.busy": "2024-01-20T16:57:37.627316Z",
     "iopub.status.idle": "2024-01-20T16:57:37.632150Z",
     "shell.execute_reply": "2024-01-20T16:57:37.631247Z"
    },
    "id": "lH7cJO9jan_t",
    "papermill": {
     "duration": 0.026462,
     "end_time": "2024-01-20T16:57:37.634172",
     "exception": false,
     "start_time": "2024-01-20T16:57:37.607710",
     "status": "completed"
    },
    "tags": []
   },
   "outputs": [],
   "source": [
    "# def clean_data(df):\n",
    "#     # Tokenizing word into each token\n",
    "#     mod = df.apply(lambda words: word_tokenize(words))\n",
    "\n",
    "#     # Removing digit in words\n",
    "#     mod = mod.apply(lambda words: [re.sub(r'[\\d+]','', word) for word in words])\n",
    "\n",
    "#     # removing symbol in words\n",
    "#     mod = mod.apply(lambda words: [re.sub(r'[^\\w]','', word) for word in words])\n",
    "\n",
    "#     # removing white space in words\n",
    "#     mod = mod.apply(lambda words: [re.sub(r'\\s+', '', word) for word in words if word.strip()])\n",
    "\n",
    "#     # lowering all the word\n",
    "#     mod = mod.apply(lambda words: [word.lower() for word in words])\n",
    "\n",
    "#     # removing stop word\n",
    "#     # using NLTK libary to get English stopword\n",
    "#     eng = stopwords.words('english')\n",
    "#     mod = mod.apply(lambda words:[word for word in words if word not in eng])\n",
    "\n",
    "#     # Lemmatization\n",
    "#     nlp = spacy.load('en_core_web_sm')\n",
    "#     mod = mod.apply(lambda words: [token.lemma_ for token in nlp(' '.join(words))])\n",
    "#     return mod"
   ]
  },
  {
   "cell_type": "code",
   "execution_count": 17,
   "id": "8f6273ce",
   "metadata": {
    "execution": {
     "iopub.execute_input": "2024-01-20T16:57:37.673446Z",
     "iopub.status.busy": "2024-01-20T16:57:37.672589Z",
     "iopub.status.idle": "2024-01-20T16:57:37.676787Z",
     "shell.execute_reply": "2024-01-20T16:57:37.675881Z"
    },
    "id": "-aM6TJstbBvp",
    "papermill": {
     "duration": 0.025843,
     "end_time": "2024-01-20T16:57:37.678781",
     "exception": false,
     "start_time": "2024-01-20T16:57:37.652938",
     "status": "completed"
    },
    "tags": []
   },
   "outputs": [],
   "source": [
    "# text =clean_data(df['text'])"
   ]
  },
  {
   "cell_type": "code",
   "execution_count": 18,
   "id": "08100353",
   "metadata": {
    "execution": {
     "iopub.execute_input": "2024-01-20T16:57:37.718038Z",
     "iopub.status.busy": "2024-01-20T16:57:37.717645Z",
     "iopub.status.idle": "2024-01-20T16:57:37.721733Z",
     "shell.execute_reply": "2024-01-20T16:57:37.720764Z"
    },
    "id": "qvau7yNCbVKf",
    "papermill": {
     "duration": 0.026152,
     "end_time": "2024-01-20T16:57:37.723648",
     "exception": false,
     "start_time": "2024-01-20T16:57:37.697496",
     "status": "completed"
    },
    "tags": []
   },
   "outputs": [],
   "source": [
    "# print(text)"
   ]
  },
  {
   "cell_type": "markdown",
   "id": "a6fad780",
   "metadata": {
    "id": "Twsy89K21HJ9",
    "papermill": {
     "duration": 0.018166,
     "end_time": "2024-01-20T16:57:37.760669",
     "exception": false,
     "start_time": "2024-01-20T16:57:37.742503",
     "status": "completed"
    },
    "tags": []
   },
   "source": [
    "# Model"
   ]
  },
  {
   "cell_type": "code",
   "execution_count": 19,
   "id": "9a9f7b53",
   "metadata": {
    "execution": {
     "iopub.execute_input": "2024-01-20T16:57:37.800524Z",
     "iopub.status.busy": "2024-01-20T16:57:37.800150Z",
     "iopub.status.idle": "2024-01-20T16:57:50.575968Z",
     "shell.execute_reply": "2024-01-20T16:57:50.574927Z"
    },
    "id": "QSWNPHebwW0h",
    "outputId": "5d8218a0-ed37-48dd-f710-241eedcc7434",
    "papermill": {
     "duration": 12.799095,
     "end_time": "2024-01-20T16:57:50.578468",
     "exception": false,
     "start_time": "2024-01-20T16:57:37.779373",
     "status": "completed"
    },
    "tags": []
   },
   "outputs": [
    {
     "name": "stdout",
     "output_type": "stream",
     "text": [
      "Requirement already satisfied: sentencepiece in /opt/conda/lib/python3.10/site-packages (0.1.99)\r\n"
     ]
    }
   ],
   "source": [
    "!pip install sentencepiece\n",
    "# !pip install tensorflow-gpu"
   ]
  },
  {
   "cell_type": "code",
   "execution_count": 20,
   "id": "50ba23ee",
   "metadata": {
    "execution": {
     "iopub.execute_input": "2024-01-20T16:57:50.617846Z",
     "iopub.status.busy": "2024-01-20T16:57:50.616927Z",
     "iopub.status.idle": "2024-01-20T16:58:05.714250Z",
     "shell.execute_reply": "2024-01-20T16:58:05.713266Z"
    },
    "id": "g91k5LwrwNiP",
    "papermill": {
     "duration": 15.119546,
     "end_time": "2024-01-20T16:58:05.716629",
     "exception": false,
     "start_time": "2024-01-20T16:57:50.597083",
     "status": "completed"
    },
    "tags": []
   },
   "outputs": [],
   "source": [
    "from sklearn.model_selection import train_test_split\n",
    "import numpy as np\n",
    "import pandas as pd\n",
    "import tensorflow as tf\n",
    "from transformers import XLNetTokenizer, TFXLNetModel\n",
    "from tensorflow.keras.utils import plot_model\n"
   ]
  },
  {
   "cell_type": "markdown",
   "id": "f7a21e9b",
   "metadata": {
    "id": "uODJbSxN2gFx",
    "papermill": {
     "duration": 0.019127,
     "end_time": "2024-01-20T16:58:05.754498",
     "exception": false,
     "start_time": "2024-01-20T16:58:05.735371",
     "status": "completed"
    },
    "tags": []
   },
   "source": [
    "The ratio of split :\n",
    "- 80% Train\n",
    "- 10% Validation\n",
    "- 10% Test"
   ]
  },
  {
   "cell_type": "code",
   "execution_count": 21,
   "id": "f1438eaf",
   "metadata": {
    "execution": {
     "iopub.execute_input": "2024-01-20T16:58:05.794468Z",
     "iopub.status.busy": "2024-01-20T16:58:05.793382Z",
     "iopub.status.idle": "2024-01-20T16:58:07.357094Z",
     "shell.execute_reply": "2024-01-20T16:58:07.356067Z"
    },
    "id": "1rJce4EmVXyY",
    "outputId": "c3bddbfa-dc9d-4f23-8e18-f3ab705ef6d5",
    "papermill": {
     "duration": 1.586145,
     "end_time": "2024-01-20T16:58:07.359512",
     "exception": false,
     "start_time": "2024-01-20T16:58:05.773367",
     "status": "completed"
    },
    "tags": []
   },
   "outputs": [
    {
     "data": {
      "application/vnd.jupyter.widget-view+json": {
       "model_id": "4b65508045c94151a58af37e1253fd1c",
       "version_major": 2,
       "version_minor": 0
      },
      "text/plain": [
       "spiece.model:   0%|          | 0.00/798k [00:00<?, ?B/s]"
      ]
     },
     "metadata": {},
     "output_type": "display_data"
    },
    {
     "data": {
      "application/vnd.jupyter.widget-view+json": {
       "model_id": "b327fe1e013f4f8cad91ccb61568c03e",
       "version_major": 2,
       "version_minor": 0
      },
      "text/plain": [
       "tokenizer.json:   0%|          | 0.00/1.38M [00:00<?, ?B/s]"
      ]
     },
     "metadata": {},
     "output_type": "display_data"
    },
    {
     "data": {
      "application/vnd.jupyter.widget-view+json": {
       "model_id": "c5bb1304692b404e8d50522946d2b72c",
       "version_major": 2,
       "version_minor": 0
      },
      "text/plain": [
       "config.json:   0%|          | 0.00/760 [00:00<?, ?B/s]"
      ]
     },
     "metadata": {},
     "output_type": "display_data"
    }
   ],
   "source": [
    "tokenizer = XLNetTokenizer.from_pretrained('xlnet-base-cased')\n",
    "\n",
    "# Map labels to integers\n",
    "labels = {'general pathological conditions': 0,\n",
    "          'digestive system diseases': 1,\n",
    "          'nervous system diseases': 2,\n",
    "          'neoplasms': 3,\n",
    "          'cardiovascular diseases': 4}"
   ]
  },
  {
   "cell_type": "code",
   "execution_count": 22,
   "id": "834c43fb",
   "metadata": {
    "execution": {
     "iopub.execute_input": "2024-01-20T16:58:07.398444Z",
     "iopub.status.busy": "2024-01-20T16:58:07.398119Z",
     "iopub.status.idle": "2024-01-20T16:58:07.406307Z",
     "shell.execute_reply": "2024-01-20T16:58:07.405461Z"
    },
    "id": "T8_fT0kPVYb3",
    "papermill": {
     "duration": 0.029559,
     "end_time": "2024-01-20T16:58:07.408160",
     "exception": false,
     "start_time": "2024-01-20T16:58:07.378601",
     "status": "completed"
    },
    "tags": []
   },
   "outputs": [],
   "source": [
    "class Dataset(tf.keras.utils.Sequence):\n",
    "    def __init__(self, df, tokenizer, max_length=512, batch_size=2):\n",
    "        self.texts = df['text'].tolist()\n",
    "        self.labels = [labels[label] for label in df['label']]\n",
    "        self.tokenizer = tokenizer\n",
    "        self.max_length = max_length\n",
    "        self.batch_size = batch_size\n",
    "\n",
    "    def __len__(self):\n",
    "        return int(np.ceil(len(self.texts) / self.batch_size))\n",
    "\n",
    "    def __getitem__(self, idx):\n",
    "        batch_texts = self.texts[idx * self.batch_size:(idx + 1) * self.batch_size]\n",
    "        batch_labels = self.labels[idx * self.batch_size:(idx + 1) * self.batch_size]\n",
    "\n",
    "        # Tokenize the batch\n",
    "        batch_encoding = tokenizer(batch_texts, max_length=self.max_length, padding='max_length', truncation=True, return_tensors='tf')\n",
    "\n",
    "        return {'input_ids': batch_encoding['input_ids'], 'attention_mask': batch_encoding['attention_mask']}, tf.keras.utils.to_categorical(batch_labels, num_classes=5)"
   ]
  },
  {
   "cell_type": "code",
   "execution_count": 23,
   "id": "8ca639cd",
   "metadata": {
    "execution": {
     "iopub.execute_input": "2024-01-20T16:58:07.446437Z",
     "iopub.status.busy": "2024-01-20T16:58:07.446150Z",
     "iopub.status.idle": "2024-01-20T16:58:07.459587Z",
     "shell.execute_reply": "2024-01-20T16:58:07.458668Z"
    },
    "id": "076vVd3_wG0J",
    "outputId": "25222b0f-0bbb-4142-8570-12d495646bdd",
    "papermill": {
     "duration": 0.034969,
     "end_time": "2024-01-20T16:58:07.461940",
     "exception": false,
     "start_time": "2024-01-20T16:58:07.426971",
     "status": "completed"
    },
    "tags": []
   },
   "outputs": [
    {
     "name": "stdout",
     "output_type": "stream",
     "text": [
      "2887 361 361\n"
     ]
    },
    {
     "name": "stderr",
     "output_type": "stream",
     "text": [
      "/opt/conda/lib/python3.10/site-packages/numpy/core/fromnumeric.py:57: FutureWarning: 'DataFrame.swapaxes' is deprecated and will be removed in a future version. Please use 'DataFrame.transpose' instead.\n",
      "  return bound(*args, **kwds)\n"
     ]
    }
   ],
   "source": [
    "np.random.seed(112)\n",
    "df_train, df_val, df_test = np.split(df.sample(frac=1, random_state=42),\n",
    "                                     [int(.8*len(df)), int(.9*len(df))])\n",
    "\n",
    "print(len(df_train),len(df_val), len(df_test))"
   ]
  },
  {
   "cell_type": "code",
   "execution_count": 24,
   "id": "83d4631b",
   "metadata": {
    "execution": {
     "iopub.execute_input": "2024-01-20T16:58:07.500989Z",
     "iopub.status.busy": "2024-01-20T16:58:07.500690Z",
     "iopub.status.idle": "2024-01-20T16:58:07.507316Z",
     "shell.execute_reply": "2024-01-20T16:58:07.506540Z"
    },
    "id": "CRUqzikMMhoA",
    "papermill": {
     "duration": 0.027896,
     "end_time": "2024-01-20T16:58:07.509150",
     "exception": false,
     "start_time": "2024-01-20T16:58:07.481254",
     "status": "completed"
    },
    "tags": []
   },
   "outputs": [],
   "source": [
    "class XLNetClassifier(tf.keras.Model):\n",
    "    def __init__(self, num_classes=5):\n",
    "        super(XLNetClassifier, self).__init__()\n",
    "        self.xlnet = TFXLNetModel.from_pretrained('xlnet-base-cased')\n",
    "        self.flatten = tf.keras.layers.Flatten()\n",
    "        self.dense = tf.keras.layers.Dense(num_classes, activation='softmax')\n",
    "\n",
    "    def call(self, inputs, training=False, mask=None):\n",
    "        outputs = self.xlnet(inputs['input_ids'], attention_mask=inputs['attention_mask'], training=training)\n",
    "        pooled_output = outputs['last_hidden_state'][:, 0, :]\n",
    "        flattened_output = self.flatten(pooled_output)\n",
    "        logits = self.dense(flattened_output)\n",
    "        return logits"
   ]
  },
  {
   "cell_type": "code",
   "execution_count": 25,
   "id": "acacf735",
   "metadata": {
    "execution": {
     "iopub.execute_input": "2024-01-20T16:58:07.547406Z",
     "iopub.status.busy": "2024-01-20T16:58:07.547141Z",
     "iopub.status.idle": "2024-01-20T16:58:07.552488Z",
     "shell.execute_reply": "2024-01-20T16:58:07.551693Z"
    },
    "id": "wln1dTgusby0",
    "papermill": {
     "duration": 0.02674,
     "end_time": "2024-01-20T16:58:07.554360",
     "exception": false,
     "start_time": "2024-01-20T16:58:07.527620",
     "status": "completed"
    },
    "tags": []
   },
   "outputs": [],
   "source": [
    "def train(model, train_dataset, val_dataset, learning_rate, epochs):\n",
    "    optimizer = tf.keras.optimizers.Adam(learning_rate)\n",
    "    loss_fn = tf.keras.losses.CategoricalCrossentropy()\n",
    "    model.compile(optimizer=optimizer, loss=loss_fn, metrics=['accuracy', tf.keras.metrics.Precision(), tf.keras.metrics.Recall()])\n",
    "    hist = model.fit(train_dataset, validation_data=val_dataset, epochs=epochs,batch_size=2)\n",
    "    return hist"
   ]
  },
  {
   "cell_type": "code",
   "execution_count": 26,
   "id": "3f300ca4",
   "metadata": {
    "execution": {
     "iopub.execute_input": "2024-01-20T16:58:07.592572Z",
     "iopub.status.busy": "2024-01-20T16:58:07.592003Z",
     "iopub.status.idle": "2024-01-20T17:35:40.936091Z",
     "shell.execute_reply": "2024-01-20T17:35:40.935135Z"
    },
    "id": "39wQHavc1GLM",
    "outputId": "a8ede566-2a34-4072-ad8d-dd4213973f77",
    "papermill": {
     "duration": 2253.956851,
     "end_time": "2024-01-20T17:35:41.529600",
     "exception": false,
     "start_time": "2024-01-20T16:58:07.572749",
     "status": "completed"
    },
    "tags": []
   },
   "outputs": [
    {
     "data": {
      "application/vnd.jupyter.widget-view+json": {
       "model_id": "c3fd7c407efb465cb3ecffc14e9e2d7d",
       "version_major": 2,
       "version_minor": 0
      },
      "text/plain": [
       "tf_model.h5:   0%|          | 0.00/565M [00:00<?, ?B/s]"
      ]
     },
     "metadata": {},
     "output_type": "display_data"
    },
    {
     "name": "stderr",
     "output_type": "stream",
     "text": [
      "/opt/conda/lib/python3.10/site-packages/keras/src/initializers/initializers.py:120: UserWarning: The initializer TruncatedNormal is unseeded and being called multiple times, which will return identical values each time (even if the initializer is unseeded). Please update your code to provide a seed to the initializer, or avoid using the same initializer instance more than once.\n",
      "  warnings.warn(\n",
      "Some layers from the model checkpoint at xlnet-base-cased were not used when initializing TFXLNetModel: ['lm_loss']\n",
      "- This IS expected if you are initializing TFXLNetModel from the checkpoint of a model trained on another task or with another architecture (e.g. initializing a BertForSequenceClassification model from a BertForPreTraining model).\n",
      "- This IS NOT expected if you are initializing TFXLNetModel from the checkpoint of a model that you expect to be exactly identical (initializing a BertForSequenceClassification model from a BertForSequenceClassification model).\n",
      "All the layers of TFXLNetModel were initialized from the model checkpoint at xlnet-base-cased.\n",
      "If your task is similar to the task the model of the checkpoint was trained on, you can already use TFXLNetModel for predictions without further training.\n"
     ]
    },
    {
     "name": "stdout",
     "output_type": "stream",
     "text": [
      "Epoch 1/5\n",
      "1444/1444 [==============================] - 510s 321ms/step - loss: 1.4815 - accuracy: 0.4451 - precision: 0.5178 - recall: 0.3131 - val_loss: 1.0871 - val_accuracy: 0.5873 - val_precision: 0.6616 - val_recall: 0.4820\n",
      "Epoch 2/5\n",
      "1444/1444 [==============================] - 434s 301ms/step - loss: 1.0445 - accuracy: 0.5871 - precision: 0.6255 - recall: 0.4988 - val_loss: 0.9645 - val_accuracy: 0.6205 - val_precision: 0.6485 - val_recall: 0.5263\n",
      "Epoch 3/5\n",
      "1444/1444 [==============================] - 435s 301ms/step - loss: 0.9194 - accuracy: 0.6411 - precision: 0.6816 - recall: 0.5812 - val_loss: 1.1182 - val_accuracy: 0.5568 - val_precision: 0.5888 - val_recall: 0.5235\n",
      "Epoch 4/5\n",
      "1444/1444 [==============================] - 435s 301ms/step - loss: 0.7728 - accuracy: 0.6945 - precision: 0.7236 - recall: 0.6491 - val_loss: 1.3074 - val_accuracy: 0.5679 - val_precision: 0.5870 - val_recall: 0.5235\n",
      "Epoch 5/5\n",
      "1444/1444 [==============================] - 435s 301ms/step - loss: 0.6658 - accuracy: 0.7468 - precision: 0.7689 - recall: 0.7097 - val_loss: 1.0559 - val_accuracy: 0.5928 - val_precision: 0.6113 - val_recall: 0.5402\n"
     ]
    }
   ],
   "source": [
    "train_dataset = Dataset(df_train, tokenizer)\n",
    "val_dataset = Dataset(df_val, tokenizer)\n",
    "\n",
    "# Create XLNet classifier model\n",
    "model = XLNetClassifier()\n",
    "\n",
    "# Train the model\n",
    "history = train(model, train_dataset, val_dataset, learning_rate=2e-5, epochs=5)"
   ]
  },
  {
   "cell_type": "code",
   "execution_count": 27,
   "id": "51582977",
   "metadata": {
    "execution": {
     "iopub.execute_input": "2024-01-20T17:35:42.765810Z",
     "iopub.status.busy": "2024-01-20T17:35:42.765436Z",
     "iopub.status.idle": "2024-01-20T17:35:42.776224Z",
     "shell.execute_reply": "2024-01-20T17:35:42.775384Z"
    },
    "papermill": {
     "duration": 0.60493,
     "end_time": "2024-01-20T17:35:42.778294",
     "exception": false,
     "start_time": "2024-01-20T17:35:42.173364",
     "status": "completed"
    },
    "tags": []
   },
   "outputs": [
    {
     "name": "stdout",
     "output_type": "stream",
     "text": [
      "Accuracy of the model (last epoch) : 0.747\n",
      "precision of the model (last epoch) : 0.769\n",
      "Recall of the model (last epoch) : 0.71\n",
      "F1 of the model (last epoch) : 0.738\n",
      "\n",
      "Validation Accuracy of the model (last epoch) : 0.593\n",
      "Validation precision of the model (last epoch) : 0.611\n",
      "Validation Recall of the model (last epoch) : 0.54\n",
      "Validation F1 of the model (last epoch) : 0.574\n"
     ]
    }
   ],
   "source": [
    "accuracy = history.history['accuracy']\n",
    "precision = history.history['precision']\n",
    "recall = history.history['recall']\n",
    "    \n",
    "# Calculate F1 score\n",
    "f1 = [2 * (p * r) / (p + r) if (p + r) > 0 else 0 for p, r in zip(precision, recall)]\n",
    "\n",
    "print('Accuracy of the model (last epoch) :',round(accuracy[-1],3))                   \n",
    "print('precision of the model (last epoch) :',round(precision[-1],3))\n",
    "print('Recall of the model (last epoch) :',round(recall[-1],3))\n",
    "print('F1 of the model (last epoch) :',round(f1[-1],3))\n",
    "\n",
    "val_accuracy = history.history['val_accuracy']\n",
    "val_precision = history.history['val_precision']\n",
    "val_recall = history.history['val_recall']\n",
    "print()\n",
    "    \n",
    "# Calculate F1 score\n",
    "val_f1 = [2 * (p * r) / (p + r) if (p + r) > 0 else 0 for p, r in zip(val_precision, val_recall)]\n",
    "\n",
    "print('Validation Accuracy of the model (last epoch) :',round(val_accuracy[-1],3))                   \n",
    "print('Validation precision of the model (last epoch) :',round(val_precision[-1],3))\n",
    "print('Validation Recall of the model (last epoch) :',round(val_recall[-1],3))\n",
    "print('Validation F1 of the model (last epoch) :',round(val_f1[-1],3))"
   ]
  },
  {
   "cell_type": "code",
   "execution_count": 28,
   "id": "71d0c57c",
   "metadata": {
    "execution": {
     "iopub.execute_input": "2024-01-20T17:35:44.009701Z",
     "iopub.status.busy": "2024-01-20T17:35:44.008876Z",
     "iopub.status.idle": "2024-01-20T17:36:01.691400Z",
     "shell.execute_reply": "2024-01-20T17:36:01.690527Z"
    },
    "papermill": {
     "duration": 18.327476,
     "end_time": "2024-01-20T17:36:01.693505",
     "exception": false,
     "start_time": "2024-01-20T17:35:43.366029",
     "status": "completed"
    },
    "tags": []
   },
   "outputs": [
    {
     "name": "stdout",
     "output_type": "stream",
     "text": [
      "181/181 [==============================] - 18s 83ms/step\n"
     ]
    }
   ],
   "source": [
    "test_dataset = Dataset(df_test, tokenizer)\n",
    "y_pred = model.predict(test_dataset)"
   ]
  },
  {
   "cell_type": "code",
   "execution_count": null,
   "id": "e629cd1d",
   "metadata": {
    "execution": {
     "iopub.execute_input": "2024-01-20T16:44:48.077223Z",
     "iopub.status.busy": "2024-01-20T16:44:48.076498Z",
     "iopub.status.idle": "2024-01-20T16:44:48.082939Z",
     "shell.execute_reply": "2024-01-20T16:44:48.081934Z",
     "shell.execute_reply.started": "2024-01-20T16:44:48.077187Z"
    },
    "papermill": {
     "duration": 0.608257,
     "end_time": "2024-01-20T17:36:02.930369",
     "exception": false,
     "start_time": "2024-01-20T17:36:02.322112",
     "status": "completed"
    },
    "tags": []
   },
   "outputs": [],
   "source": []
  },
  {
   "cell_type": "markdown",
   "id": "cee3d2ab",
   "metadata": {
    "id": "SXGG94UMsenj",
    "papermill": {
     "duration": 0.606347,
     "end_time": "2024-01-20T17:36:04.146072",
     "exception": false,
     "start_time": "2024-01-20T17:36:03.539725",
     "status": "completed"
    },
    "tags": []
   },
   "source": []
  },
  {
   "cell_type": "markdown",
   "id": "78c01c00",
   "metadata": {
    "id": "2puAYk9nsezB",
    "papermill": {
     "duration": 0.600664,
     "end_time": "2024-01-20T17:36:05.396149",
     "exception": false,
     "start_time": "2024-01-20T17:36:04.795485",
     "status": "completed"
    },
    "tags": []
   },
   "source": []
  },
  {
   "cell_type": "markdown",
   "id": "935c3f37",
   "metadata": {
    "id": "dfxaHr4Bse5B",
    "papermill": {
     "duration": 0.651186,
     "end_time": "2024-01-20T17:36:06.646715",
     "exception": false,
     "start_time": "2024-01-20T17:36:05.995529",
     "status": "completed"
    },
    "tags": []
   },
   "source": []
  }
 ],
 "metadata": {
  "accelerator": "GPU",
  "colab": {
   "gpuType": "T4",
   "provenance": []
  },
  "kaggle": {
   "accelerator": "gpu",
   "dataSources": [],
   "dockerImageVersionId": 30636,
   "isGpuEnabled": true,
   "isInternetEnabled": true,
   "language": "python",
   "sourceType": "notebook"
  },
  "kernelspec": {
   "display_name": "Python 3",
   "language": "python",
   "name": "python3"
  },
  "language_info": {
   "codemirror_mode": {
    "name": "ipython",
    "version": 3
   },
   "file_extension": ".py",
   "mimetype": "text/x-python",
   "name": "python",
   "nbconvert_exporter": "python",
   "pygments_lexer": "ipython3",
   "version": "3.10.12"
  },
  "papermill": {
   "default_parameters": {},
   "duration": 2319.709662,
   "end_time": "2024-01-20T17:36:10.554152",
   "environment_variables": {},
   "exception": null,
   "input_path": "__notebook__.ipynb",
   "output_path": "__notebook__.ipynb",
   "parameters": {},
   "start_time": "2024-01-20T16:57:30.844490",
   "version": "2.4.0"
  },
  "widgets": {
   "application/vnd.jupyter.widget-state+json": {
    "state": {
     "05ee82aacbfe4b889ee655b695c109d8": {
      "model_module": "@jupyter-widgets/controls",
      "model_module_version": "1.5.0",
      "model_name": "HTMLModel",
      "state": {
       "_dom_classes": [],
       "_model_module": "@jupyter-widgets/controls",
       "_model_module_version": "1.5.0",
       "_model_name": "HTMLModel",
       "_view_count": null,
       "_view_module": "@jupyter-widgets/controls",
       "_view_module_version": "1.5.0",
       "_view_name": "HTMLView",
       "description": "",
       "description_tooltip": null,
       "layout": "IPY_MODEL_b345fbc7a7184c76809f07bbb7b49c03",
       "placeholder": "​",
       "style": "IPY_MODEL_c443bbfb95a74b89bd6c8678faa6c1ed",
       "value": "spiece.model: 100%"
      }
     },
     "060e50e069ba47b89f6affb855e2dee3": {
      "model_module": "@jupyter-widgets/controls",
      "model_module_version": "1.5.0",
      "model_name": "DescriptionStyleModel",
      "state": {
       "_model_module": "@jupyter-widgets/controls",
       "_model_module_version": "1.5.0",
       "_model_name": "DescriptionStyleModel",
       "_view_count": null,
       "_view_module": "@jupyter-widgets/base",
       "_view_module_version": "1.2.0",
       "_view_name": "StyleView",
       "description_width": ""
      }
     },
     "0bdec967b8124ac0a9533ad1b9b97554": {
      "model_module": "@jupyter-widgets/controls",
      "model_module_version": "1.5.0",
      "model_name": "HTMLModel",
      "state": {
       "_dom_classes": [],
       "_model_module": "@jupyter-widgets/controls",
       "_model_module_version": "1.5.0",
       "_model_name": "HTMLModel",
       "_view_count": null,
       "_view_module": "@jupyter-widgets/controls",
       "_view_module_version": "1.5.0",
       "_view_name": "HTMLView",
       "description": "",
       "description_tooltip": null,
       "layout": "IPY_MODEL_54c7cb96bbc94f469839ac08f84dd646",
       "placeholder": "​",
       "style": "IPY_MODEL_10fec35392654aa99f98a3ea56f2efc4",
       "value": "config.json: 100%"
      }
     },
     "0f0cc8ab70554ded9c81198c77242d2a": {
      "model_module": "@jupyter-widgets/controls",
      "model_module_version": "1.5.0",
      "model_name": "ProgressStyleModel",
      "state": {
       "_model_module": "@jupyter-widgets/controls",
       "_model_module_version": "1.5.0",
       "_model_name": "ProgressStyleModel",
       "_view_count": null,
       "_view_module": "@jupyter-widgets/base",
       "_view_module_version": "1.2.0",
       "_view_name": "StyleView",
       "bar_color": null,
       "description_width": ""
      }
     },
     "10ef00a9baef4e57ba232fbb5c576959": {
      "model_module": "@jupyter-widgets/base",
      "model_module_version": "1.2.0",
      "model_name": "LayoutModel",
      "state": {
       "_model_module": "@jupyter-widgets/base",
       "_model_module_version": "1.2.0",
       "_model_name": "LayoutModel",
       "_view_count": null,
       "_view_module": "@jupyter-widgets/base",
       "_view_module_version": "1.2.0",
       "_view_name": "LayoutView",
       "align_content": null,
       "align_items": null,
       "align_self": null,
       "border": null,
       "bottom": null,
       "display": null,
       "flex": null,
       "flex_flow": null,
       "grid_area": null,
       "grid_auto_columns": null,
       "grid_auto_flow": null,
       "grid_auto_rows": null,
       "grid_column": null,
       "grid_gap": null,
       "grid_row": null,
       "grid_template_areas": null,
       "grid_template_columns": null,
       "grid_template_rows": null,
       "height": null,
       "justify_content": null,
       "justify_items": null,
       "left": null,
       "margin": null,
       "max_height": null,
       "max_width": null,
       "min_height": null,
       "min_width": null,
       "object_fit": null,
       "object_position": null,
       "order": null,
       "overflow": null,
       "overflow_x": null,
       "overflow_y": null,
       "padding": null,
       "right": null,
       "top": null,
       "visibility": null,
       "width": null
      }
     },
     "10fec35392654aa99f98a3ea56f2efc4": {
      "model_module": "@jupyter-widgets/controls",
      "model_module_version": "1.5.0",
      "model_name": "DescriptionStyleModel",
      "state": {
       "_model_module": "@jupyter-widgets/controls",
       "_model_module_version": "1.5.0",
       "_model_name": "DescriptionStyleModel",
       "_view_count": null,
       "_view_module": "@jupyter-widgets/base",
       "_view_module_version": "1.2.0",
       "_view_name": "StyleView",
       "description_width": ""
      }
     },
     "23a99b56e4394b2194fe3992f1981c9d": {
      "model_module": "@jupyter-widgets/base",
      "model_module_version": "1.2.0",
      "model_name": "LayoutModel",
      "state": {
       "_model_module": "@jupyter-widgets/base",
       "_model_module_version": "1.2.0",
       "_model_name": "LayoutModel",
       "_view_count": null,
       "_view_module": "@jupyter-widgets/base",
       "_view_module_version": "1.2.0",
       "_view_name": "LayoutView",
       "align_content": null,
       "align_items": null,
       "align_self": null,
       "border": null,
       "bottom": null,
       "display": null,
       "flex": null,
       "flex_flow": null,
       "grid_area": null,
       "grid_auto_columns": null,
       "grid_auto_flow": null,
       "grid_auto_rows": null,
       "grid_column": null,
       "grid_gap": null,
       "grid_row": null,
       "grid_template_areas": null,
       "grid_template_columns": null,
       "grid_template_rows": null,
       "height": null,
       "justify_content": null,
       "justify_items": null,
       "left": null,
       "margin": null,
       "max_height": null,
       "max_width": null,
       "min_height": null,
       "min_width": null,
       "object_fit": null,
       "object_position": null,
       "order": null,
       "overflow": null,
       "overflow_x": null,
       "overflow_y": null,
       "padding": null,
       "right": null,
       "top": null,
       "visibility": null,
       "width": null
      }
     },
     "28318ca8975f4628962246155306524c": {
      "model_module": "@jupyter-widgets/controls",
      "model_module_version": "1.5.0",
      "model_name": "DescriptionStyleModel",
      "state": {
       "_model_module": "@jupyter-widgets/controls",
       "_model_module_version": "1.5.0",
       "_model_name": "DescriptionStyleModel",
       "_view_count": null,
       "_view_module": "@jupyter-widgets/base",
       "_view_module_version": "1.2.0",
       "_view_name": "StyleView",
       "description_width": ""
      }
     },
     "2fdecec8a55f406ba6b130d92e2f4e59": {
      "model_module": "@jupyter-widgets/controls",
      "model_module_version": "1.5.0",
      "model_name": "FloatProgressModel",
      "state": {
       "_dom_classes": [],
       "_model_module": "@jupyter-widgets/controls",
       "_model_module_version": "1.5.0",
       "_model_name": "FloatProgressModel",
       "_view_count": null,
       "_view_module": "@jupyter-widgets/controls",
       "_view_module_version": "1.5.0",
       "_view_name": "ProgressView",
       "bar_style": "success",
       "description": "",
       "description_tooltip": null,
       "layout": "IPY_MODEL_9f624a8f740a4ba3832594335e4ca96a",
       "max": 565485600.0,
       "min": 0.0,
       "orientation": "horizontal",
       "style": "IPY_MODEL_675c5e9eadda4d9cab3cc2c17098d810",
       "value": 565485600.0
      }
     },
     "4372495a559144668ef6f2d5a2805fe9": {
      "model_module": "@jupyter-widgets/controls",
      "model_module_version": "1.5.0",
      "model_name": "HTMLModel",
      "state": {
       "_dom_classes": [],
       "_model_module": "@jupyter-widgets/controls",
       "_model_module_version": "1.5.0",
       "_model_name": "HTMLModel",
       "_view_count": null,
       "_view_module": "@jupyter-widgets/controls",
       "_view_module_version": "1.5.0",
       "_view_name": "HTMLView",
       "description": "",
       "description_tooltip": null,
       "layout": "IPY_MODEL_53e3b96c3ee047d288625b9a20fc9f2b",
       "placeholder": "​",
       "style": "IPY_MODEL_c582d8113ed6451dad030fdfa28c4d3a",
       "value": " 798k/798k [00:00&lt;00:00, 3.24MB/s]"
      }
     },
     "4b65508045c94151a58af37e1253fd1c": {
      "model_module": "@jupyter-widgets/controls",
      "model_module_version": "1.5.0",
      "model_name": "HBoxModel",
      "state": {
       "_dom_classes": [],
       "_model_module": "@jupyter-widgets/controls",
       "_model_module_version": "1.5.0",
       "_model_name": "HBoxModel",
       "_view_count": null,
       "_view_module": "@jupyter-widgets/controls",
       "_view_module_version": "1.5.0",
       "_view_name": "HBoxView",
       "box_style": "",
       "children": [
        "IPY_MODEL_05ee82aacbfe4b889ee655b695c109d8",
        "IPY_MODEL_874351a661084f4fa76bc00b7c26ca1f",
        "IPY_MODEL_4372495a559144668ef6f2d5a2805fe9"
       ],
       "layout": "IPY_MODEL_23a99b56e4394b2194fe3992f1981c9d"
      }
     },
     "4bcfebac5e7640428e42a66cdfd84657": {
      "model_module": "@jupyter-widgets/controls",
      "model_module_version": "1.5.0",
      "model_name": "HTMLModel",
      "state": {
       "_dom_classes": [],
       "_model_module": "@jupyter-widgets/controls",
       "_model_module_version": "1.5.0",
       "_model_name": "HTMLModel",
       "_view_count": null,
       "_view_module": "@jupyter-widgets/controls",
       "_view_module_version": "1.5.0",
       "_view_name": "HTMLView",
       "description": "",
       "description_tooltip": null,
       "layout": "IPY_MODEL_670528516b5845439283e4032b6ab786",
       "placeholder": "​",
       "style": "IPY_MODEL_6979a6e6eb0744a49bbc0155ab0d7ead",
       "value": " 1.38M/1.38M [00:00&lt;00:00, 15.2MB/s]"
      }
     },
     "53e3b96c3ee047d288625b9a20fc9f2b": {
      "model_module": "@jupyter-widgets/base",
      "model_module_version": "1.2.0",
      "model_name": "LayoutModel",
      "state": {
       "_model_module": "@jupyter-widgets/base",
       "_model_module_version": "1.2.0",
       "_model_name": "LayoutModel",
       "_view_count": null,
       "_view_module": "@jupyter-widgets/base",
       "_view_module_version": "1.2.0",
       "_view_name": "LayoutView",
       "align_content": null,
       "align_items": null,
       "align_self": null,
       "border": null,
       "bottom": null,
       "display": null,
       "flex": null,
       "flex_flow": null,
       "grid_area": null,
       "grid_auto_columns": null,
       "grid_auto_flow": null,
       "grid_auto_rows": null,
       "grid_column": null,
       "grid_gap": null,
       "grid_row": null,
       "grid_template_areas": null,
       "grid_template_columns": null,
       "grid_template_rows": null,
       "height": null,
       "justify_content": null,
       "justify_items": null,
       "left": null,
       "margin": null,
       "max_height": null,
       "max_width": null,
       "min_height": null,
       "min_width": null,
       "object_fit": null,
       "object_position": null,
       "order": null,
       "overflow": null,
       "overflow_x": null,
       "overflow_y": null,
       "padding": null,
       "right": null,
       "top": null,
       "visibility": null,
       "width": null
      }
     },
     "54c7cb96bbc94f469839ac08f84dd646": {
      "model_module": "@jupyter-widgets/base",
      "model_module_version": "1.2.0",
      "model_name": "LayoutModel",
      "state": {
       "_model_module": "@jupyter-widgets/base",
       "_model_module_version": "1.2.0",
       "_model_name": "LayoutModel",
       "_view_count": null,
       "_view_module": "@jupyter-widgets/base",
       "_view_module_version": "1.2.0",
       "_view_name": "LayoutView",
       "align_content": null,
       "align_items": null,
       "align_self": null,
       "border": null,
       "bottom": null,
       "display": null,
       "flex": null,
       "flex_flow": null,
       "grid_area": null,
       "grid_auto_columns": null,
       "grid_auto_flow": null,
       "grid_auto_rows": null,
       "grid_column": null,
       "grid_gap": null,
       "grid_row": null,
       "grid_template_areas": null,
       "grid_template_columns": null,
       "grid_template_rows": null,
       "height": null,
       "justify_content": null,
       "justify_items": null,
       "left": null,
       "margin": null,
       "max_height": null,
       "max_width": null,
       "min_height": null,
       "min_width": null,
       "object_fit": null,
       "object_position": null,
       "order": null,
       "overflow": null,
       "overflow_x": null,
       "overflow_y": null,
       "padding": null,
       "right": null,
       "top": null,
       "visibility": null,
       "width": null
      }
     },
     "55879255ab4d41e8a1dc95381456f6c3": {
      "model_module": "@jupyter-widgets/controls",
      "model_module_version": "1.5.0",
      "model_name": "HTMLModel",
      "state": {
       "_dom_classes": [],
       "_model_module": "@jupyter-widgets/controls",
       "_model_module_version": "1.5.0",
       "_model_name": "HTMLModel",
       "_view_count": null,
       "_view_module": "@jupyter-widgets/controls",
       "_view_module_version": "1.5.0",
       "_view_name": "HTMLView",
       "description": "",
       "description_tooltip": null,
       "layout": "IPY_MODEL_a4bd24e45caa4243a4b80ec9cf8f766f",
       "placeholder": "​",
       "style": "IPY_MODEL_28318ca8975f4628962246155306524c",
       "value": " 565M/565M [00:01&lt;00:00, 383MB/s]"
      }
     },
     "5c46f0321dff40f98cc373409460753d": {
      "model_module": "@jupyter-widgets/base",
      "model_module_version": "1.2.0",
      "model_name": "LayoutModel",
      "state": {
       "_model_module": "@jupyter-widgets/base",
       "_model_module_version": "1.2.0",
       "_model_name": "LayoutModel",
       "_view_count": null,
       "_view_module": "@jupyter-widgets/base",
       "_view_module_version": "1.2.0",
       "_view_name": "LayoutView",
       "align_content": null,
       "align_items": null,
       "align_self": null,
       "border": null,
       "bottom": null,
       "display": null,
       "flex": null,
       "flex_flow": null,
       "grid_area": null,
       "grid_auto_columns": null,
       "grid_auto_flow": null,
       "grid_auto_rows": null,
       "grid_column": null,
       "grid_gap": null,
       "grid_row": null,
       "grid_template_areas": null,
       "grid_template_columns": null,
       "grid_template_rows": null,
       "height": null,
       "justify_content": null,
       "justify_items": null,
       "left": null,
       "margin": null,
       "max_height": null,
       "max_width": null,
       "min_height": null,
       "min_width": null,
       "object_fit": null,
       "object_position": null,
       "order": null,
       "overflow": null,
       "overflow_x": null,
       "overflow_y": null,
       "padding": null,
       "right": null,
       "top": null,
       "visibility": null,
       "width": null
      }
     },
     "670528516b5845439283e4032b6ab786": {
      "model_module": "@jupyter-widgets/base",
      "model_module_version": "1.2.0",
      "model_name": "LayoutModel",
      "state": {
       "_model_module": "@jupyter-widgets/base",
       "_model_module_version": "1.2.0",
       "_model_name": "LayoutModel",
       "_view_count": null,
       "_view_module": "@jupyter-widgets/base",
       "_view_module_version": "1.2.0",
       "_view_name": "LayoutView",
       "align_content": null,
       "align_items": null,
       "align_self": null,
       "border": null,
       "bottom": null,
       "display": null,
       "flex": null,
       "flex_flow": null,
       "grid_area": null,
       "grid_auto_columns": null,
       "grid_auto_flow": null,
       "grid_auto_rows": null,
       "grid_column": null,
       "grid_gap": null,
       "grid_row": null,
       "grid_template_areas": null,
       "grid_template_columns": null,
       "grid_template_rows": null,
       "height": null,
       "justify_content": null,
       "justify_items": null,
       "left": null,
       "margin": null,
       "max_height": null,
       "max_width": null,
       "min_height": null,
       "min_width": null,
       "object_fit": null,
       "object_position": null,
       "order": null,
       "overflow": null,
       "overflow_x": null,
       "overflow_y": null,
       "padding": null,
       "right": null,
       "top": null,
       "visibility": null,
       "width": null
      }
     },
     "675c5e9eadda4d9cab3cc2c17098d810": {
      "model_module": "@jupyter-widgets/controls",
      "model_module_version": "1.5.0",
      "model_name": "ProgressStyleModel",
      "state": {
       "_model_module": "@jupyter-widgets/controls",
       "_model_module_version": "1.5.0",
       "_model_name": "ProgressStyleModel",
       "_view_count": null,
       "_view_module": "@jupyter-widgets/base",
       "_view_module_version": "1.2.0",
       "_view_name": "StyleView",
       "bar_color": null,
       "description_width": ""
      }
     },
     "6861a9a1f4b248c6a4ba515d8b57a883": {
      "model_module": "@jupyter-widgets/controls",
      "model_module_version": "1.5.0",
      "model_name": "HTMLModel",
      "state": {
       "_dom_classes": [],
       "_model_module": "@jupyter-widgets/controls",
       "_model_module_version": "1.5.0",
       "_model_name": "HTMLModel",
       "_view_count": null,
       "_view_module": "@jupyter-widgets/controls",
       "_view_module_version": "1.5.0",
       "_view_name": "HTMLView",
       "description": "",
       "description_tooltip": null,
       "layout": "IPY_MODEL_eb01bc7315ed4f8c8f9c778b9f6c9fd6",
       "placeholder": "​",
       "style": "IPY_MODEL_7ebe47e87c8543d8bafbcbd5fd658396",
       "value": " 760/760 [00:00&lt;00:00, 65.0kB/s]"
      }
     },
     "689330f159b14a0eb69ffc6c365a4ff8": {
      "model_module": "@jupyter-widgets/base",
      "model_module_version": "1.2.0",
      "model_name": "LayoutModel",
      "state": {
       "_model_module": "@jupyter-widgets/base",
       "_model_module_version": "1.2.0",
       "_model_name": "LayoutModel",
       "_view_count": null,
       "_view_module": "@jupyter-widgets/base",
       "_view_module_version": "1.2.0",
       "_view_name": "LayoutView",
       "align_content": null,
       "align_items": null,
       "align_self": null,
       "border": null,
       "bottom": null,
       "display": null,
       "flex": null,
       "flex_flow": null,
       "grid_area": null,
       "grid_auto_columns": null,
       "grid_auto_flow": null,
       "grid_auto_rows": null,
       "grid_column": null,
       "grid_gap": null,
       "grid_row": null,
       "grid_template_areas": null,
       "grid_template_columns": null,
       "grid_template_rows": null,
       "height": null,
       "justify_content": null,
       "justify_items": null,
       "left": null,
       "margin": null,
       "max_height": null,
       "max_width": null,
       "min_height": null,
       "min_width": null,
       "object_fit": null,
       "object_position": null,
       "order": null,
       "overflow": null,
       "overflow_x": null,
       "overflow_y": null,
       "padding": null,
       "right": null,
       "top": null,
       "visibility": null,
       "width": null
      }
     },
     "6979a6e6eb0744a49bbc0155ab0d7ead": {
      "model_module": "@jupyter-widgets/controls",
      "model_module_version": "1.5.0",
      "model_name": "DescriptionStyleModel",
      "state": {
       "_model_module": "@jupyter-widgets/controls",
       "_model_module_version": "1.5.0",
       "_model_name": "DescriptionStyleModel",
       "_view_count": null,
       "_view_module": "@jupyter-widgets/base",
       "_view_module_version": "1.2.0",
       "_view_name": "StyleView",
       "description_width": ""
      }
     },
     "7ebe47e87c8543d8bafbcbd5fd658396": {
      "model_module": "@jupyter-widgets/controls",
      "model_module_version": "1.5.0",
      "model_name": "DescriptionStyleModel",
      "state": {
       "_model_module": "@jupyter-widgets/controls",
       "_model_module_version": "1.5.0",
       "_model_name": "DescriptionStyleModel",
       "_view_count": null,
       "_view_module": "@jupyter-widgets/base",
       "_view_module_version": "1.2.0",
       "_view_name": "StyleView",
       "description_width": ""
      }
     },
     "874351a661084f4fa76bc00b7c26ca1f": {
      "model_module": "@jupyter-widgets/controls",
      "model_module_version": "1.5.0",
      "model_name": "FloatProgressModel",
      "state": {
       "_dom_classes": [],
       "_model_module": "@jupyter-widgets/controls",
       "_model_module_version": "1.5.0",
       "_model_name": "FloatProgressModel",
       "_view_count": null,
       "_view_module": "@jupyter-widgets/controls",
       "_view_module_version": "1.5.0",
       "_view_name": "ProgressView",
       "bar_style": "success",
       "description": "",
       "description_tooltip": null,
       "layout": "IPY_MODEL_ae967e331e484cffa2320cdae3e7a47c",
       "max": 798011.0,
       "min": 0.0,
       "orientation": "horizontal",
       "style": "IPY_MODEL_0f0cc8ab70554ded9c81198c77242d2a",
       "value": 798011.0
      }
     },
     "99bca3c9e267474eb781dc01ebdeaaf9": {
      "model_module": "@jupyter-widgets/controls",
      "model_module_version": "1.5.0",
      "model_name": "FloatProgressModel",
      "state": {
       "_dom_classes": [],
       "_model_module": "@jupyter-widgets/controls",
       "_model_module_version": "1.5.0",
       "_model_name": "FloatProgressModel",
       "_view_count": null,
       "_view_module": "@jupyter-widgets/controls",
       "_view_module_version": "1.5.0",
       "_view_name": "ProgressView",
       "bar_style": "success",
       "description": "",
       "description_tooltip": null,
       "layout": "IPY_MODEL_689330f159b14a0eb69ffc6c365a4ff8",
       "max": 760.0,
       "min": 0.0,
       "orientation": "horizontal",
       "style": "IPY_MODEL_a859f2898110454b8972b1c5aeb9ddb4",
       "value": 760.0
      }
     },
     "9f624a8f740a4ba3832594335e4ca96a": {
      "model_module": "@jupyter-widgets/base",
      "model_module_version": "1.2.0",
      "model_name": "LayoutModel",
      "state": {
       "_model_module": "@jupyter-widgets/base",
       "_model_module_version": "1.2.0",
       "_model_name": "LayoutModel",
       "_view_count": null,
       "_view_module": "@jupyter-widgets/base",
       "_view_module_version": "1.2.0",
       "_view_name": "LayoutView",
       "align_content": null,
       "align_items": null,
       "align_self": null,
       "border": null,
       "bottom": null,
       "display": null,
       "flex": null,
       "flex_flow": null,
       "grid_area": null,
       "grid_auto_columns": null,
       "grid_auto_flow": null,
       "grid_auto_rows": null,
       "grid_column": null,
       "grid_gap": null,
       "grid_row": null,
       "grid_template_areas": null,
       "grid_template_columns": null,
       "grid_template_rows": null,
       "height": null,
       "justify_content": null,
       "justify_items": null,
       "left": null,
       "margin": null,
       "max_height": null,
       "max_width": null,
       "min_height": null,
       "min_width": null,
       "object_fit": null,
       "object_position": null,
       "order": null,
       "overflow": null,
       "overflow_x": null,
       "overflow_y": null,
       "padding": null,
       "right": null,
       "top": null,
       "visibility": null,
       "width": null
      }
     },
     "a4bd24e45caa4243a4b80ec9cf8f766f": {
      "model_module": "@jupyter-widgets/base",
      "model_module_version": "1.2.0",
      "model_name": "LayoutModel",
      "state": {
       "_model_module": "@jupyter-widgets/base",
       "_model_module_version": "1.2.0",
       "_model_name": "LayoutModel",
       "_view_count": null,
       "_view_module": "@jupyter-widgets/base",
       "_view_module_version": "1.2.0",
       "_view_name": "LayoutView",
       "align_content": null,
       "align_items": null,
       "align_self": null,
       "border": null,
       "bottom": null,
       "display": null,
       "flex": null,
       "flex_flow": null,
       "grid_area": null,
       "grid_auto_columns": null,
       "grid_auto_flow": null,
       "grid_auto_rows": null,
       "grid_column": null,
       "grid_gap": null,
       "grid_row": null,
       "grid_template_areas": null,
       "grid_template_columns": null,
       "grid_template_rows": null,
       "height": null,
       "justify_content": null,
       "justify_items": null,
       "left": null,
       "margin": null,
       "max_height": null,
       "max_width": null,
       "min_height": null,
       "min_width": null,
       "object_fit": null,
       "object_position": null,
       "order": null,
       "overflow": null,
       "overflow_x": null,
       "overflow_y": null,
       "padding": null,
       "right": null,
       "top": null,
       "visibility": null,
       "width": null
      }
     },
     "a5f1e817ca4b430e8266fa4efb8c6868": {
      "model_module": "@jupyter-widgets/controls",
      "model_module_version": "1.5.0",
      "model_name": "FloatProgressModel",
      "state": {
       "_dom_classes": [],
       "_model_module": "@jupyter-widgets/controls",
       "_model_module_version": "1.5.0",
       "_model_name": "FloatProgressModel",
       "_view_count": null,
       "_view_module": "@jupyter-widgets/controls",
       "_view_module_version": "1.5.0",
       "_view_name": "ProgressView",
       "bar_style": "success",
       "description": "",
       "description_tooltip": null,
       "layout": "IPY_MODEL_10ef00a9baef4e57ba232fbb5c576959",
       "max": 1382015.0,
       "min": 0.0,
       "orientation": "horizontal",
       "style": "IPY_MODEL_a9a569bd4e99442b973c3c62b7e69e06",
       "value": 1382015.0
      }
     },
     "a859f2898110454b8972b1c5aeb9ddb4": {
      "model_module": "@jupyter-widgets/controls",
      "model_module_version": "1.5.0",
      "model_name": "ProgressStyleModel",
      "state": {
       "_model_module": "@jupyter-widgets/controls",
       "_model_module_version": "1.5.0",
       "_model_name": "ProgressStyleModel",
       "_view_count": null,
       "_view_module": "@jupyter-widgets/base",
       "_view_module_version": "1.2.0",
       "_view_name": "StyleView",
       "bar_color": null,
       "description_width": ""
      }
     },
     "a9a569bd4e99442b973c3c62b7e69e06": {
      "model_module": "@jupyter-widgets/controls",
      "model_module_version": "1.5.0",
      "model_name": "ProgressStyleModel",
      "state": {
       "_model_module": "@jupyter-widgets/controls",
       "_model_module_version": "1.5.0",
       "_model_name": "ProgressStyleModel",
       "_view_count": null,
       "_view_module": "@jupyter-widgets/base",
       "_view_module_version": "1.2.0",
       "_view_name": "StyleView",
       "bar_color": null,
       "description_width": ""
      }
     },
     "aa1761b627094013a8fc3898d4cafcd1": {
      "model_module": "@jupyter-widgets/controls",
      "model_module_version": "1.5.0",
      "model_name": "HTMLModel",
      "state": {
       "_dom_classes": [],
       "_model_module": "@jupyter-widgets/controls",
       "_model_module_version": "1.5.0",
       "_model_name": "HTMLModel",
       "_view_count": null,
       "_view_module": "@jupyter-widgets/controls",
       "_view_module_version": "1.5.0",
       "_view_name": "HTMLView",
       "description": "",
       "description_tooltip": null,
       "layout": "IPY_MODEL_cf2e7ec1420a43a7b175e1fc46f22484",
       "placeholder": "​",
       "style": "IPY_MODEL_af8491e63c594bff9e52ba56fd598db6",
       "value": "tokenizer.json: 100%"
      }
     },
     "ae967e331e484cffa2320cdae3e7a47c": {
      "model_module": "@jupyter-widgets/base",
      "model_module_version": "1.2.0",
      "model_name": "LayoutModel",
      "state": {
       "_model_module": "@jupyter-widgets/base",
       "_model_module_version": "1.2.0",
       "_model_name": "LayoutModel",
       "_view_count": null,
       "_view_module": "@jupyter-widgets/base",
       "_view_module_version": "1.2.0",
       "_view_name": "LayoutView",
       "align_content": null,
       "align_items": null,
       "align_self": null,
       "border": null,
       "bottom": null,
       "display": null,
       "flex": null,
       "flex_flow": null,
       "grid_area": null,
       "grid_auto_columns": null,
       "grid_auto_flow": null,
       "grid_auto_rows": null,
       "grid_column": null,
       "grid_gap": null,
       "grid_row": null,
       "grid_template_areas": null,
       "grid_template_columns": null,
       "grid_template_rows": null,
       "height": null,
       "justify_content": null,
       "justify_items": null,
       "left": null,
       "margin": null,
       "max_height": null,
       "max_width": null,
       "min_height": null,
       "min_width": null,
       "object_fit": null,
       "object_position": null,
       "order": null,
       "overflow": null,
       "overflow_x": null,
       "overflow_y": null,
       "padding": null,
       "right": null,
       "top": null,
       "visibility": null,
       "width": null
      }
     },
     "af8491e63c594bff9e52ba56fd598db6": {
      "model_module": "@jupyter-widgets/controls",
      "model_module_version": "1.5.0",
      "model_name": "DescriptionStyleModel",
      "state": {
       "_model_module": "@jupyter-widgets/controls",
       "_model_module_version": "1.5.0",
       "_model_name": "DescriptionStyleModel",
       "_view_count": null,
       "_view_module": "@jupyter-widgets/base",
       "_view_module_version": "1.2.0",
       "_view_name": "StyleView",
       "description_width": ""
      }
     },
     "b327fe1e013f4f8cad91ccb61568c03e": {
      "model_module": "@jupyter-widgets/controls",
      "model_module_version": "1.5.0",
      "model_name": "HBoxModel",
      "state": {
       "_dom_classes": [],
       "_model_module": "@jupyter-widgets/controls",
       "_model_module_version": "1.5.0",
       "_model_name": "HBoxModel",
       "_view_count": null,
       "_view_module": "@jupyter-widgets/controls",
       "_view_module_version": "1.5.0",
       "_view_name": "HBoxView",
       "box_style": "",
       "children": [
        "IPY_MODEL_aa1761b627094013a8fc3898d4cafcd1",
        "IPY_MODEL_a5f1e817ca4b430e8266fa4efb8c6868",
        "IPY_MODEL_4bcfebac5e7640428e42a66cdfd84657"
       ],
       "layout": "IPY_MODEL_f13a93e726d640b9aafb66a3babfbac1"
      }
     },
     "b345fbc7a7184c76809f07bbb7b49c03": {
      "model_module": "@jupyter-widgets/base",
      "model_module_version": "1.2.0",
      "model_name": "LayoutModel",
      "state": {
       "_model_module": "@jupyter-widgets/base",
       "_model_module_version": "1.2.0",
       "_model_name": "LayoutModel",
       "_view_count": null,
       "_view_module": "@jupyter-widgets/base",
       "_view_module_version": "1.2.0",
       "_view_name": "LayoutView",
       "align_content": null,
       "align_items": null,
       "align_self": null,
       "border": null,
       "bottom": null,
       "display": null,
       "flex": null,
       "flex_flow": null,
       "grid_area": null,
       "grid_auto_columns": null,
       "grid_auto_flow": null,
       "grid_auto_rows": null,
       "grid_column": null,
       "grid_gap": null,
       "grid_row": null,
       "grid_template_areas": null,
       "grid_template_columns": null,
       "grid_template_rows": null,
       "height": null,
       "justify_content": null,
       "justify_items": null,
       "left": null,
       "margin": null,
       "max_height": null,
       "max_width": null,
       "min_height": null,
       "min_width": null,
       "object_fit": null,
       "object_position": null,
       "order": null,
       "overflow": null,
       "overflow_x": null,
       "overflow_y": null,
       "padding": null,
       "right": null,
       "top": null,
       "visibility": null,
       "width": null
      }
     },
     "c3fd7c407efb465cb3ecffc14e9e2d7d": {
      "model_module": "@jupyter-widgets/controls",
      "model_module_version": "1.5.0",
      "model_name": "HBoxModel",
      "state": {
       "_dom_classes": [],
       "_model_module": "@jupyter-widgets/controls",
       "_model_module_version": "1.5.0",
       "_model_name": "HBoxModel",
       "_view_count": null,
       "_view_module": "@jupyter-widgets/controls",
       "_view_module_version": "1.5.0",
       "_view_name": "HBoxView",
       "box_style": "",
       "children": [
        "IPY_MODEL_fa32d67d6dac4918ac23c3128a0738c8",
        "IPY_MODEL_2fdecec8a55f406ba6b130d92e2f4e59",
        "IPY_MODEL_55879255ab4d41e8a1dc95381456f6c3"
       ],
       "layout": "IPY_MODEL_5c46f0321dff40f98cc373409460753d"
      }
     },
     "c443bbfb95a74b89bd6c8678faa6c1ed": {
      "model_module": "@jupyter-widgets/controls",
      "model_module_version": "1.5.0",
      "model_name": "DescriptionStyleModel",
      "state": {
       "_model_module": "@jupyter-widgets/controls",
       "_model_module_version": "1.5.0",
       "_model_name": "DescriptionStyleModel",
       "_view_count": null,
       "_view_module": "@jupyter-widgets/base",
       "_view_module_version": "1.2.0",
       "_view_name": "StyleView",
       "description_width": ""
      }
     },
     "c582d8113ed6451dad030fdfa28c4d3a": {
      "model_module": "@jupyter-widgets/controls",
      "model_module_version": "1.5.0",
      "model_name": "DescriptionStyleModel",
      "state": {
       "_model_module": "@jupyter-widgets/controls",
       "_model_module_version": "1.5.0",
       "_model_name": "DescriptionStyleModel",
       "_view_count": null,
       "_view_module": "@jupyter-widgets/base",
       "_view_module_version": "1.2.0",
       "_view_name": "StyleView",
       "description_width": ""
      }
     },
     "c5bb1304692b404e8d50522946d2b72c": {
      "model_module": "@jupyter-widgets/controls",
      "model_module_version": "1.5.0",
      "model_name": "HBoxModel",
      "state": {
       "_dom_classes": [],
       "_model_module": "@jupyter-widgets/controls",
       "_model_module_version": "1.5.0",
       "_model_name": "HBoxModel",
       "_view_count": null,
       "_view_module": "@jupyter-widgets/controls",
       "_view_module_version": "1.5.0",
       "_view_name": "HBoxView",
       "box_style": "",
       "children": [
        "IPY_MODEL_0bdec967b8124ac0a9533ad1b9b97554",
        "IPY_MODEL_99bca3c9e267474eb781dc01ebdeaaf9",
        "IPY_MODEL_6861a9a1f4b248c6a4ba515d8b57a883"
       ],
       "layout": "IPY_MODEL_f04d25f2e4a44a52ba8564215eac7b21"
      }
     },
     "cf2e7ec1420a43a7b175e1fc46f22484": {
      "model_module": "@jupyter-widgets/base",
      "model_module_version": "1.2.0",
      "model_name": "LayoutModel",
      "state": {
       "_model_module": "@jupyter-widgets/base",
       "_model_module_version": "1.2.0",
       "_model_name": "LayoutModel",
       "_view_count": null,
       "_view_module": "@jupyter-widgets/base",
       "_view_module_version": "1.2.0",
       "_view_name": "LayoutView",
       "align_content": null,
       "align_items": null,
       "align_self": null,
       "border": null,
       "bottom": null,
       "display": null,
       "flex": null,
       "flex_flow": null,
       "grid_area": null,
       "grid_auto_columns": null,
       "grid_auto_flow": null,
       "grid_auto_rows": null,
       "grid_column": null,
       "grid_gap": null,
       "grid_row": null,
       "grid_template_areas": null,
       "grid_template_columns": null,
       "grid_template_rows": null,
       "height": null,
       "justify_content": null,
       "justify_items": null,
       "left": null,
       "margin": null,
       "max_height": null,
       "max_width": null,
       "min_height": null,
       "min_width": null,
       "object_fit": null,
       "object_position": null,
       "order": null,
       "overflow": null,
       "overflow_x": null,
       "overflow_y": null,
       "padding": null,
       "right": null,
       "top": null,
       "visibility": null,
       "width": null
      }
     },
     "eb01bc7315ed4f8c8f9c778b9f6c9fd6": {
      "model_module": "@jupyter-widgets/base",
      "model_module_version": "1.2.0",
      "model_name": "LayoutModel",
      "state": {
       "_model_module": "@jupyter-widgets/base",
       "_model_module_version": "1.2.0",
       "_model_name": "LayoutModel",
       "_view_count": null,
       "_view_module": "@jupyter-widgets/base",
       "_view_module_version": "1.2.0",
       "_view_name": "LayoutView",
       "align_content": null,
       "align_items": null,
       "align_self": null,
       "border": null,
       "bottom": null,
       "display": null,
       "flex": null,
       "flex_flow": null,
       "grid_area": null,
       "grid_auto_columns": null,
       "grid_auto_flow": null,
       "grid_auto_rows": null,
       "grid_column": null,
       "grid_gap": null,
       "grid_row": null,
       "grid_template_areas": null,
       "grid_template_columns": null,
       "grid_template_rows": null,
       "height": null,
       "justify_content": null,
       "justify_items": null,
       "left": null,
       "margin": null,
       "max_height": null,
       "max_width": null,
       "min_height": null,
       "min_width": null,
       "object_fit": null,
       "object_position": null,
       "order": null,
       "overflow": null,
       "overflow_x": null,
       "overflow_y": null,
       "padding": null,
       "right": null,
       "top": null,
       "visibility": null,
       "width": null
      }
     },
     "f04d25f2e4a44a52ba8564215eac7b21": {
      "model_module": "@jupyter-widgets/base",
      "model_module_version": "1.2.0",
      "model_name": "LayoutModel",
      "state": {
       "_model_module": "@jupyter-widgets/base",
       "_model_module_version": "1.2.0",
       "_model_name": "LayoutModel",
       "_view_count": null,
       "_view_module": "@jupyter-widgets/base",
       "_view_module_version": "1.2.0",
       "_view_name": "LayoutView",
       "align_content": null,
       "align_items": null,
       "align_self": null,
       "border": null,
       "bottom": null,
       "display": null,
       "flex": null,
       "flex_flow": null,
       "grid_area": null,
       "grid_auto_columns": null,
       "grid_auto_flow": null,
       "grid_auto_rows": null,
       "grid_column": null,
       "grid_gap": null,
       "grid_row": null,
       "grid_template_areas": null,
       "grid_template_columns": null,
       "grid_template_rows": null,
       "height": null,
       "justify_content": null,
       "justify_items": null,
       "left": null,
       "margin": null,
       "max_height": null,
       "max_width": null,
       "min_height": null,
       "min_width": null,
       "object_fit": null,
       "object_position": null,
       "order": null,
       "overflow": null,
       "overflow_x": null,
       "overflow_y": null,
       "padding": null,
       "right": null,
       "top": null,
       "visibility": null,
       "width": null
      }
     },
     "f13a93e726d640b9aafb66a3babfbac1": {
      "model_module": "@jupyter-widgets/base",
      "model_module_version": "1.2.0",
      "model_name": "LayoutModel",
      "state": {
       "_model_module": "@jupyter-widgets/base",
       "_model_module_version": "1.2.0",
       "_model_name": "LayoutModel",
       "_view_count": null,
       "_view_module": "@jupyter-widgets/base",
       "_view_module_version": "1.2.0",
       "_view_name": "LayoutView",
       "align_content": null,
       "align_items": null,
       "align_self": null,
       "border": null,
       "bottom": null,
       "display": null,
       "flex": null,
       "flex_flow": null,
       "grid_area": null,
       "grid_auto_columns": null,
       "grid_auto_flow": null,
       "grid_auto_rows": null,
       "grid_column": null,
       "grid_gap": null,
       "grid_row": null,
       "grid_template_areas": null,
       "grid_template_columns": null,
       "grid_template_rows": null,
       "height": null,
       "justify_content": null,
       "justify_items": null,
       "left": null,
       "margin": null,
       "max_height": null,
       "max_width": null,
       "min_height": null,
       "min_width": null,
       "object_fit": null,
       "object_position": null,
       "order": null,
       "overflow": null,
       "overflow_x": null,
       "overflow_y": null,
       "padding": null,
       "right": null,
       "top": null,
       "visibility": null,
       "width": null
      }
     },
     "f33d1e1197ca42a189cb680a2648aef0": {
      "model_module": "@jupyter-widgets/base",
      "model_module_version": "1.2.0",
      "model_name": "LayoutModel",
      "state": {
       "_model_module": "@jupyter-widgets/base",
       "_model_module_version": "1.2.0",
       "_model_name": "LayoutModel",
       "_view_count": null,
       "_view_module": "@jupyter-widgets/base",
       "_view_module_version": "1.2.0",
       "_view_name": "LayoutView",
       "align_content": null,
       "align_items": null,
       "align_self": null,
       "border": null,
       "bottom": null,
       "display": null,
       "flex": null,
       "flex_flow": null,
       "grid_area": null,
       "grid_auto_columns": null,
       "grid_auto_flow": null,
       "grid_auto_rows": null,
       "grid_column": null,
       "grid_gap": null,
       "grid_row": null,
       "grid_template_areas": null,
       "grid_template_columns": null,
       "grid_template_rows": null,
       "height": null,
       "justify_content": null,
       "justify_items": null,
       "left": null,
       "margin": null,
       "max_height": null,
       "max_width": null,
       "min_height": null,
       "min_width": null,
       "object_fit": null,
       "object_position": null,
       "order": null,
       "overflow": null,
       "overflow_x": null,
       "overflow_y": null,
       "padding": null,
       "right": null,
       "top": null,
       "visibility": null,
       "width": null
      }
     },
     "fa32d67d6dac4918ac23c3128a0738c8": {
      "model_module": "@jupyter-widgets/controls",
      "model_module_version": "1.5.0",
      "model_name": "HTMLModel",
      "state": {
       "_dom_classes": [],
       "_model_module": "@jupyter-widgets/controls",
       "_model_module_version": "1.5.0",
       "_model_name": "HTMLModel",
       "_view_count": null,
       "_view_module": "@jupyter-widgets/controls",
       "_view_module_version": "1.5.0",
       "_view_name": "HTMLView",
       "description": "",
       "description_tooltip": null,
       "layout": "IPY_MODEL_f33d1e1197ca42a189cb680a2648aef0",
       "placeholder": "​",
       "style": "IPY_MODEL_060e50e069ba47b89f6affb855e2dee3",
       "value": "tf_model.h5: 100%"
      }
     }
    },
    "version_major": 2,
    "version_minor": 0
   }
  }
 },
 "nbformat": 4,
 "nbformat_minor": 5
}
